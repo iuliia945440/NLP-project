{
 "cells": [
  {
   "cell_type": "code",
   "execution_count": 31,
   "id": "322b84de-e832-424b-9447-0022e79c7cdd",
   "metadata": {},
   "outputs": [],
   "source": [
    "import pandas as pd\n",
    "import os\n",
    "from sklearn.feature_extraction.text import TfidfVectorizer\n",
    "import joblib\n",
    "from sklearn.neighbors import NearestNeighbors"
   ]
  },
  {
   "cell_type": "code",
   "execution_count": 27,
   "id": "2b3bb2a3-4e43-4b94-8252-2efe16fbc2b5",
   "metadata": {},
   "outputs": [
    {
     "name": "stdout",
     "output_type": "stream",
     "text": [
      "(1100, 4)\n",
      "Index(['Quest', 'Ans', 'URL', 'Department'], dtype='object')\n"
     ]
    }
   ],
   "source": [
    "data_dir = '../../data/'\n",
    "all_csv = [pd.read_csv(os.path.join(data_dir, file)) for file in os.listdir(data_dir) if file.endswith('.csv')]\n",
    "dataset = pd.concat(all_csv, ignore_index=True)\n",
    "print(dataset.shape)\n",
    "print(dataset.columns)\n",
    "dataset.to_csv('../../data/full_dataset.csv', index=False)"
   ]
  },
  {
   "cell_type": "markdown",
   "id": "b7320299-a821-4109-b0ec-b4c26b1bfe87",
   "metadata": {},
   "source": [
    "Приведем к нижнему регистру"
   ]
  },
  {
   "cell_type": "code",
   "execution_count": 28,
   "id": "2ae70c59-8fec-44ab-9cba-a84cc985f01f",
   "metadata": {},
   "outputs": [],
   "source": [
    "def clean_text(text):\n",
    "    if isinstance(text, str):\n",
    "        return text.strip().lower()\n",
    "    else:\n",
    "        return ''\n",
    "\n",
    "dataset['Quest'] = dataset['Quest'].apply(clean_text)\n",
    "dataset['Ans'] = dataset['Ans'].apply(clean_text)"
   ]
  },
  {
   "cell_type": "markdown",
   "id": "7013a765-640f-4049-ae2d-1742bd9b40db",
   "metadata": {},
   "source": [
    "Векторизация"
   ]
  },
  {
   "cell_type": "code",
   "execution_count": 29,
   "id": "febecc7a-4fbf-4921-9867-c705f720b53f",
   "metadata": {},
   "outputs": [],
   "source": [
    "vectorizer = TfidfVectorizer()\n",
    "X = vectorizer.fit_transform(dataset['Quest'])"
   ]
  },
  {
   "cell_type": "markdown",
   "id": "f77d3363-e457-42a6-85d4-f2238d6e3d7f",
   "metadata": {},
   "source": [
    "Сохраним векторайзер"
   ]
  },
  {
   "cell_type": "code",
   "execution_count": 30,
   "id": "b3465447-03e9-4d9d-bca1-76b4c7cdeffd",
   "metadata": {},
   "outputs": [
    {
     "data": {
      "text/plain": [
       "['../../model/tfidf_vectorizer.joblib']"
      ]
     },
     "execution_count": 30,
     "metadata": {},
     "output_type": "execute_result"
    }
   ],
   "source": [
    "joblib.dump(vectorizer, '../../model/tfidf_vectorizer.joblib')"
   ]
  },
  {
   "cell_type": "markdown",
   "id": "24433670-1ea4-4b88-8e72-4c95931a1f81",
   "metadata": {},
   "source": [
    "Обучение модели на векторизированных данных"
   ]
  },
  {
   "cell_type": "code",
   "execution_count": null,
   "id": "fdfd1622-f958-4111-a886-5b755f509d08",
   "metadata": {},
   "outputs": [],
   "source": [
    "model = NearestNeighbors(n_neighbors=1, metric='cosine')\n",
    "model.fit(X)"
   ]
  }
 ],
 "metadata": {
  "kernelspec": {
   "display_name": "Python 3 (ipykernel)",
   "language": "python",
   "name": "python3"
  },
  "language_info": {
   "codemirror_mode": {
    "name": "ipython",
    "version": 3
   },
   "file_extension": ".py",
   "mimetype": "text/x-python",
   "name": "python",
   "nbconvert_exporter": "python",
   "pygments_lexer": "ipython3",
   "version": "3.12.7"
  }
 },
 "nbformat": 4,
 "nbformat_minor": 5
}
